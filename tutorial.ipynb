{
 "cells": [
  {
   "cell_type": "markdown",
   "metadata": {},
   "source": [
    "# GROMACS molecular dynamics demonstration"
   ]
  },
  {
   "cell_type": "markdown",
   "metadata": {},
   "source": [
    "Molecular dynamics (MD) is a versatile method for simulating the time-dependent behavior of molecular systems. This notebook demonstrates how MD simulations can be run using the GROMACS software to study the self-assembly of lipids. To accelerate the simulations, a coarse-grained (CG) model using the Martini force field is employed. In addition, parallel processing with multiple CPU cores is leveraged to demonstrate the principle of high-performance computing (HPC)."
   ]
  },
  {
   "cell_type": "markdown",
   "metadata": {},
   "source": [
    "## Preparations\n",
    "\n",
    "First, we need to make some choices regarding our MD simulation:\n",
    "\n",
    "* What kind of lipid do we want to study and how many?\n",
    "* What solvent do we want to use?\n",
    "* How large (cubic) box do we want to simulate?\n",
    "\n",
    "To provide these selections, run the configuration script below. For reference, W = water, EOL = ethanol and OD = octadecane. Lipid names are long and complicated, but feel free to search those up on the internet. The box size is the side length of the cubic cell in units of Å (= 0.1 nm)."
   ]
  },
  {
   "cell_type": "code",
   "execution_count": null,
   "metadata": {
    "scrolled": true
   },
   "outputs": [],
   "source": [
    "%run config.py"
   ]
  },
  {
   "cell_type": "markdown",
   "metadata": {},
   "source": [
    "The input parameters are stored in the variables `lipid.value`, `solvent.value`, `nlip.value` and `box.value`, respectively."
   ]
  },
  {
   "cell_type": "markdown",
   "metadata": {},
   "source": [
    "## Building the solvated lipid system\n",
    "\n",
    "The solvated lipid box will be constructed in the following. First, let's try inserting the selected lipids into a cubic simulation box of specified size. This is done using the GROMACS tool `insert-molecules` and the resulting system will be stored in a file named `lipids.gro`."
   ]
  },
  {
   "cell_type": "code",
   "execution_count": null,
   "metadata": {
    "scrolled": true
   },
   "outputs": [],
   "source": [
    "!gmx_mpi insert-molecules -o lipids -ci ff22/{lipid.value}.gro -nmol {nlip.value} -try 200 -box {box.value}"
   ]
  },
  {
   "cell_type": "markdown",
   "metadata": {},
   "source": [
    "GROMACS will dump quite a lot of output. The most important content is usually printed toward the bottom. Always make sure to check for any error messages. If you get an error, read the message and try to figure out what went wrong. A collection of common runtime errors is available in the [GROMACS documentation](https://manual.gromacs.org/current/user-guide/run-time-errors.html).\n",
    "\n",
    "Next, we need to fill the `lipids.gro` system with the chosen solvent. As much solvent as will fit in the box containing the lipids is automatically added. This is done using the `solvate` tool of GROMACS and the resulting system will be stored in the file `solv.gro`."
   ]
  },
  {
   "cell_type": "code",
   "execution_count": null,
   "metadata": {
    "scrolled": true
   },
   "outputs": [],
   "source": [
    "!gmx_mpi solvate -cp lipids.gro -cs ff22/{solvent.value}.gro -o solv"
   ]
  },
  {
   "cell_type": "markdown",
   "metadata": {},
   "source": [
    "Great, now we have a box filled with lipids and solvent of your choice.\n",
    "\n",
    "## The topology\n",
    "\n",
    "To be able to perform the actual MD simulation, we need a file describing on which atoms and atom combinations (pairs, triples, quadruples) the different components of the force field should act and how (which parameters should be applied in each case). All this is contained in the topology file.\n",
    "\n",
    "A template topology file is provided. However, before it can be used we need to fix some absolute paths in the file to point to the applied coarse-grained force field. At the same time, we need to specify the selected lipid type and solvent, as well as how many molecules of each were respectively added. To this end, check the previous `insert-molecules` and `solvate` outputs for the number of lipids and solvent molecules that were *de facto* added. Paste these numbers after the `{lipid.value}` and `{solvent.value}` variables in the command below (replace `N_LIPID_MOLS` and `N_SOLVENT_MOLS`).\n",
    "\n",
    "The editing of the topology file `topol.top` is done automatically by the `init_files.sh` script below (feel free to have a look what it does under the hood with `!cat init_files.sh`). The script will also initialize input files needed for following energy minimization and MD steps.\n",
    "\n",
    "**Note! If the number of lipid/solvent molecules in the topology does not match the structure file, the next steps will fail. So make sure to edit the numbers below carefully.**"
   ]
  },
  {
   "cell_type": "code",
   "execution_count": null,
   "metadata": {
    "scrolled": false
   },
   "outputs": [],
   "source": [
    "!bash init_files.sh {lipid.value} 50 {solvent.value} 1793"
   ]
  },
  {
   "cell_type": "markdown",
   "metadata": {},
   "source": [
    "## Energy minimization\n",
    "\n",
    "Now, let's copy a template recipe for performing *energy minimization*"
   ]
  },
  {
   "cell_type": "code",
   "execution_count": null,
   "metadata": {},
   "outputs": [],
   "source": [
    "!gmx_mpi grompp -f em -c solv -p topol -o em -maxwarn 10"
   ]
  },
  {
   "cell_type": "code",
   "execution_count": null,
   "metadata": {},
   "outputs": [],
   "source": [
    "!orterun -n $SLURM_CPUS_PER_TASK --oversubscribe gmx_mpi mdrun -v -s em"
   ]
  },
  {
   "cell_type": "code",
   "execution_count": null,
   "metadata": {},
   "outputs": [],
   "source": [
    "!gmx_mpi make_ndx -f confout.gro < template/ndx_inp"
   ]
  },
  {
   "cell_type": "code",
   "execution_count": null,
   "metadata": {},
   "outputs": [],
   "source": [
    "!gmx_mpi grompp -f md -c confout -p topol -maxwarn 10 -n index -o md"
   ]
  },
  {
   "cell_type": "code",
   "execution_count": null,
   "metadata": {},
   "outputs": [],
   "source": [
    "!orterun -n $SLURM_CPUS_PER_TASK --oversubscribe gmx_mpi mdrun -deffnm md -v"
   ]
  },
  {
   "cell_type": "code",
   "execution_count": null,
   "metadata": {},
   "outputs": [],
   "source": [
    "!gmx_mpi trjconv -s md -f md.xtc -o md_whole.xtc -pbc mol < template/trj_inp"
   ]
  },
  {
   "cell_type": "code",
   "execution_count": null,
   "metadata": {},
   "outputs": [],
   "source": [
    "import MDAnalysis as mda\n",
    "import nglview as nv\n",
    "\n",
    "u = mda.Universe('md.gro', 'md_whole.xtc')\n",
    "view = nv.show_mdanalysis(u)\n",
    "view.add_spacefill(lipid.value)\n",
    "view.add_point(solvent.value)\n",
    "view.add_unitcell()\n",
    "view"
   ]
  },
  {
   "cell_type": "markdown",
   "metadata": {},
   "source": [
    "Cleanup"
   ]
  },
  {
   "cell_type": "code",
   "execution_count": null,
   "metadata": {},
   "outputs": [],
   "source": [
    "!bash clean.sh"
   ]
  }
 ],
 "metadata": {
  "kernelspec": {
   "display_name": "Python 3 (ipykernel)",
   "language": "python",
   "name": "python3"
  },
  "language_info": {
   "codemirror_mode": {
    "name": "ipython",
    "version": 3
   },
   "file_extension": ".py",
   "mimetype": "text/x-python",
   "name": "python",
   "nbconvert_exporter": "python",
   "pygments_lexer": "ipython3",
   "version": "3.10.5"
  },
  "vscode": {
   "interpreter": {
    "hash": "f9f85f796d01129d0dd105a088854619f454435301f6ffec2fea96ecbd9be4ac"
   }
  }
 },
 "nbformat": 4,
 "nbformat_minor": 2
}
