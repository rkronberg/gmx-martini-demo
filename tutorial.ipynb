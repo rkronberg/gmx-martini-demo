{
 "cells": [
  {
   "cell_type": "markdown",
   "metadata": {},
   "source": [
    "# GROMACS molecular dynamics demonstration"
   ]
  },
  {
   "cell_type": "markdown",
   "metadata": {},
   "source": [
    "Molecular dynamics (MD) is a versatile method for simulating the time-dependent behavior of molecular systems. This notebook demonstrates how MD simulations can be run using the GROMACS software to study the self-assembly of lipids. To accelerate the simulations, a coarse-grained (CG) model using the Martini force field is employed. In addition, parallel processing with multiple CPU cores is leveraged to demonstrate the principles of high-performance computing (HPC)."
   ]
  },
  {
   "cell_type": "markdown",
   "metadata": {},
   "source": [
    "Let's try inserting 50 dipalmitoylphosphatidylcholine (DPPC) lipids into a cubic simulation box with a side length of 6 Å. The resulting system will be stored in a file named `lipids.gro`."
   ]
  },
  {
   "cell_type": "code",
   "execution_count": null,
   "metadata": {
    "scrolled": true
   },
   "outputs": [],
   "source": [
    "from ipywidgets import widgets\n",
    "from IPython.display import display\n",
    "box = widgets.FloatSlider(min=5, max=10, step=0.5, description='Box size')\n",
    "nmol = widgets.IntSlider(min=10, max=100, description='# of lipids')\n",
    "lip = widgets.Dropdown(options=['CPC',\n",
    "                                'DLPC',\n",
    "                                'DOPC',\n",
    "                                'DPGS',\n",
    "                                'DPPC',\n",
    "                                'DPPG',\n",
    "                                'DPSM',\n",
    "                                'DTPC',\n",
    "                                'DTPE',\n",
    "                                'DTPG',\n",
    "                                'DTPS',\n",
    "                                'DXCE',\n",
    "                                'DXPE',\n",
    "                                'LPC',\n",
    "                                'PADG',\n",
    "                                'POPC',\n",
    "                                'POPE',\n",
    "                                'POPG',\n",
    "                                'PPC',\n",
    "                                'PRPC',\n",
    "                                'PRPS',\n",
    "                                'PVDG'],\n",
    "                                description='Lipid')\n",
    "display(lip)\n",
    "display(nmol)\n",
    "display(box)"
   ]
  },
  {
   "cell_type": "code",
   "execution_count": null,
   "metadata": {},
   "outputs": [],
   "source": [
    "l = lip.value + '.gro'\n",
    "n = nmol.value\n",
    "b = box.value"
   ]
  },
  {
   "cell_type": "code",
   "execution_count": null,
   "metadata": {},
   "outputs": [],
   "source": [
    "!gmx_mpi insert-molecules -o lipids -ci ff22/$l -nmol $n -try 200 -box $b"
   ]
  },
  {
   "cell_type": "markdown",
   "metadata": {},
   "source": [
    "Next, we need to fill the `lipids.gro` system with water (solvate). The resulting system will be stored in the file `solv.gro`."
   ]
  },
  {
   "cell_type": "code",
   "execution_count": null,
   "metadata": {},
   "outputs": [],
   "source": [
    "!gmx_mpi solvate -cp lipids.gro -cs ff22/W400.gro -o solv -scale 2.0"
   ]
  },
  {
   "cell_type": "markdown",
   "metadata": {},
   "source": [
    "Check the previous outputs for the number of lipids and water molecules that were *de facto* added. We need to modify a template topology file with these amounts, respectively."
   ]
  },
  {
   "cell_type": "code",
   "execution_count": null,
   "metadata": {},
   "outputs": [],
   "source": [
    "!sed \"s|FIXME|$PWD|g\" template/template.top > topol.top\n",
    "!echo $lip.value 10 >> topol.top\n",
    "!echo W 1060 >> topol.top"
   ]
  },
  {
   "cell_type": "markdown",
   "metadata": {},
   "source": [
    "Now, let's copy a template recipe for performing *energy minimization*"
   ]
  },
  {
   "cell_type": "code",
   "execution_count": null,
   "metadata": {},
   "outputs": [],
   "source": [
    "!cp template/em.mdp .\n",
    "!gmx_mpi grompp -f em -c solv -p topol -o em -maxwarn 10"
   ]
  },
  {
   "cell_type": "code",
   "execution_count": null,
   "metadata": {},
   "outputs": [],
   "source": [
    "!orterun -n $SLURM_CPUS_PER_TASK --oversubscribe gmx_mpi mdrun -v -s em"
   ]
  },
  {
   "cell_type": "code",
   "execution_count": null,
   "metadata": {},
   "outputs": [],
   "source": [
    "!gmx_mpi make_ndx -f confout.gro < template/ndx_inp"
   ]
  },
  {
   "cell_type": "code",
   "execution_count": null,
   "metadata": {},
   "outputs": [],
   "source": [
    "!cp template/md.mdp .\n",
    "!sed -i \"s/ADDINDEXGROUPS/$lip.value SOLVENTS/\" md.mdp"
   ]
  },
  {
   "cell_type": "code",
   "execution_count": null,
   "metadata": {},
   "outputs": [],
   "source": [
    "!gmx_mpi grompp -f md.mdp -c confout -p topol.top -maxwarn 10 -n index -o md"
   ]
  },
  {
   "cell_type": "code",
   "execution_count": null,
   "metadata": {},
   "outputs": [],
   "source": [
    "!orterun -n $SLURM_CPUS_PER_TASK --oversubscribe gmx_mpi mdrun -deffnm md -v"
   ]
  },
  {
   "cell_type": "code",
   "execution_count": null,
   "metadata": {},
   "outputs": [],
   "source": [
    "!echo 0 > trj_inp\n",
    "!gmx_mpi trjconv -s md -f md.xtc -o md_whole.xtc -pbc mol < trj_inp"
   ]
  },
  {
   "cell_type": "code",
   "execution_count": null,
   "metadata": {},
   "outputs": [],
   "source": [
    "import nglview as nv\n",
    "import MDAnalysis as mda\n",
    "import warnings\n",
    "warnings.filterwarnings(\"ignore\")"
   ]
  },
  {
   "cell_type": "code",
   "execution_count": null,
   "metadata": {},
   "outputs": [],
   "source": [
    "u = mda.Universe('md.gro', 'md_whole.xtc')\n",
    "view = nv.show_mdanalysis(u)\n",
    "view.add_spacefill(lip.value)\n",
    "view.add_point('W')\n",
    "view"
   ]
  },
  {
   "cell_type": "markdown",
   "metadata": {},
   "source": [
    "Cleanup"
   ]
  },
  {
   "cell_type": "code",
   "execution_count": null,
   "metadata": {},
   "outputs": [],
   "source": [
    "rm -f *gro* *top* *xtc* *tpr* *log* *mdp* *cpt* *edr* *trr* *inp* *ndx*"
   ]
  },
  {
   "cell_type": "code",
   "execution_count": null,
   "metadata": {},
   "outputs": [],
   "source": []
  }
 ],
 "metadata": {
  "kernelspec": {
   "display_name": "Python 3 (ipykernel)",
   "language": "python",
   "name": "python3"
  },
  "language_info": {
   "codemirror_mode": {
    "name": "ipython",
    "version": 3
   },
   "file_extension": ".py",
   "mimetype": "text/x-python",
   "name": "python",
   "nbconvert_exporter": "python",
   "pygments_lexer": "ipython3",
   "version": "3.10.5"
  },
  "vscode": {
   "interpreter": {
    "hash": "f9f85f796d01129d0dd105a088854619f454435301f6ffec2fea96ecbd9be4ac"
   }
  }
 },
 "nbformat": 4,
 "nbformat_minor": 2
}
